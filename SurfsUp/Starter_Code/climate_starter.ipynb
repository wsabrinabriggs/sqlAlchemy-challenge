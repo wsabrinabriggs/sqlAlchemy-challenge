{
 "cells": [
  {
   "cell_type": "code",
   "execution_count": 2,
   "metadata": {},
   "outputs": [],
   "source": [
    "%matplotlib inline\n",
    "from matplotlib import style\n",
    "style.use('fivethirtyeight')\n",
    "import matplotlib.pyplot as plt"
   ]
  },
  {
   "cell_type": "code",
   "execution_count": 3,
   "metadata": {},
   "outputs": [],
   "source": [
    "import numpy as np\n",
    "import pandas as pd\n",
    "import datetime as dt"
   ]
  },
  {
   "cell_type": "markdown",
   "metadata": {},
   "source": [
    "# Reflect Tables into SQLAlchemy ORM"
   ]
  },
  {
   "cell_type": "code",
   "execution_count": 4,
   "metadata": {},
   "outputs": [],
   "source": [
    "# Python SQL toolkit and Object Relational Mapper\n",
    "import sqlalchemy\n",
    "from sqlalchemy.ext.automap import automap_base\n",
    "from sqlalchemy.orm import Session\n",
    "from sqlalchemy import create_engine, func, inspect, Column, Integer, String, Float, text"
   ]
  },
  {
   "cell_type": "code",
   "execution_count": 5,
   "metadata": {},
   "outputs": [],
   "source": [
    "# create engine to hawaii.sqlite\n",
    "engine = create_engine(\"sqlite:///Resources/hawaii.sqlite\")"
   ]
  },
  {
   "cell_type": "code",
   "execution_count": 6,
   "metadata": {},
   "outputs": [],
   "source": [
    "# reflect an existing database into a new model\n",
    "# Declare a Base using 'automap_base()'\n",
    "Base = automap_base()\n",
    "\n",
    "# reflect the tables\n",
    "Base.prepare(autoload_with=engine)"
   ]
  },
  {
   "cell_type": "code",
   "execution_count": 7,
   "metadata": {},
   "outputs": [
    {
     "data": {
      "text/plain": [
       "['measurement', 'station']"
      ]
     },
     "execution_count": 7,
     "metadata": {},
     "output_type": "execute_result"
    }
   ],
   "source": [
    "# View all of the classes that automap found\n",
    "Base.classes.keys()"
   ]
  },
  {
   "cell_type": "code",
   "execution_count": 8,
   "metadata": {},
   "outputs": [],
   "source": [
    "# Save references to each table\n",
    "# Assign the measurement class to a variable called 'Measurement'\n",
    "Measurement = Base.classes.measurement\n",
    "\n",
    "# Assign the station class to a variable called 'Station'\n",
    "Station = Base.classes.station"
   ]
  },
  {
   "cell_type": "code",
   "execution_count": 9,
   "metadata": {},
   "outputs": [],
   "source": [
    "# Create our session (link) from Python to the DB\n",
    "session = Session(engine)"
   ]
  },
  {
   "cell_type": "code",
   "execution_count": 10,
   "metadata": {},
   "outputs": [],
   "source": [
    "# measurement = session.query(Measurement)\n",
    "# insp = inspect(engine)\n",
    "# columns = insp.get_columns('Measurement')\n",
    "# for column in columns:\n",
    "#     print(column[\"name\"], column[\"type\"])"
   ]
  },
  {
   "cell_type": "markdown",
   "metadata": {},
   "source": [
    "# Exploratory Precipitation Analysis"
   ]
  },
  {
   "cell_type": "code",
   "execution_count": 11,
   "metadata": {},
   "outputs": [
    {
     "data": {
      "text/plain": [
       "('2017-08-23',)"
      ]
     },
     "execution_count": 11,
     "metadata": {},
     "output_type": "execute_result"
    }
   ],
   "source": [
    "# Find the most recent date in the data set.\n",
    "measurement = session.query(Measurement)\n",
    "# for row in session.query(Measurement.date).limit(15).all():\n",
    "#     print(row)\n",
    "session.query(func.max(Measurement.date)).first()\n",
    "# query = text(\"SELECT Date FROM measurement ORDER BY Date DESC LIMIT 1;\") #WHERE Date >=2010-01-01;\")\n",
    "# with engine.connect() as conn:\n",
    "#     data = conn.execute(query)\n",
    "\n",
    "# for record in data:\n",
    "#     print(record)\n",
    "\n",
    "# recent_date = record\n",
    "# print(recent_date)\n"
   ]
  },
  {
   "cell_type": "code",
   "execution_count": 12,
   "metadata": {},
   "outputs": [],
   "source": [
    "# # Inspect Measurement Class\n",
    "# insp = inspect(engine)\n",
    "# columns_m = insp.get_columns('measurement')\n",
    "# for column in columns_m:\n",
    "#     print(column[\"name\"], column[\"type\"])"
   ]
  },
  {
   "cell_type": "code",
   "execution_count": 13,
   "metadata": {},
   "outputs": [
    {
     "data": {
      "text/html": [
       "<div>\n",
       "<style scoped>\n",
       "    .dataframe tbody tr th:only-of-type {\n",
       "        vertical-align: middle;\n",
       "    }\n",
       "\n",
       "    .dataframe tbody tr th {\n",
       "        vertical-align: top;\n",
       "    }\n",
       "\n",
       "    .dataframe thead th {\n",
       "        text-align: right;\n",
       "    }\n",
       "</style>\n",
       "<table border=\"1\" class=\"dataframe\">\n",
       "  <thead>\n",
       "    <tr style=\"text-align: right;\">\n",
       "      <th></th>\n",
       "      <th>id</th>\n",
       "      <th>station</th>\n",
       "      <th>date</th>\n",
       "      <th>prcp</th>\n",
       "      <th>tobs</th>\n",
       "    </tr>\n",
       "  </thead>\n",
       "  <tbody>\n",
       "    <tr>\n",
       "      <th>0</th>\n",
       "      <td>1</td>\n",
       "      <td>USC00519397</td>\n",
       "      <td>2010-01-01</td>\n",
       "      <td>0.08</td>\n",
       "      <td>65.0</td>\n",
       "    </tr>\n",
       "    <tr>\n",
       "      <th>1</th>\n",
       "      <td>2</td>\n",
       "      <td>USC00519397</td>\n",
       "      <td>2010-01-02</td>\n",
       "      <td>0.00</td>\n",
       "      <td>63.0</td>\n",
       "    </tr>\n",
       "    <tr>\n",
       "      <th>2</th>\n",
       "      <td>3</td>\n",
       "      <td>USC00519397</td>\n",
       "      <td>2010-01-03</td>\n",
       "      <td>0.00</td>\n",
       "      <td>74.0</td>\n",
       "    </tr>\n",
       "    <tr>\n",
       "      <th>3</th>\n",
       "      <td>4</td>\n",
       "      <td>USC00519397</td>\n",
       "      <td>2010-01-04</td>\n",
       "      <td>0.00</td>\n",
       "      <td>76.0</td>\n",
       "    </tr>\n",
       "    <tr>\n",
       "      <th>4</th>\n",
       "      <td>5</td>\n",
       "      <td>USC00519397</td>\n",
       "      <td>2010-01-06</td>\n",
       "      <td>NaN</td>\n",
       "      <td>73.0</td>\n",
       "    </tr>\n",
       "  </tbody>\n",
       "</table>\n",
       "</div>"
      ],
      "text/plain": [
       "   id      station        date  prcp  tobs\n",
       "0   1  USC00519397  2010-01-01  0.08  65.0\n",
       "1   2  USC00519397  2010-01-02  0.00  63.0\n",
       "2   3  USC00519397  2010-01-03  0.00  74.0\n",
       "3   4  USC00519397  2010-01-04  0.00  76.0\n",
       "4   5  USC00519397  2010-01-06   NaN  73.0"
      ]
     },
     "execution_count": 13,
     "metadata": {},
     "output_type": "execute_result"
    }
   ],
   "source": [
    "from sqlalchemy import text\n",
    "\n",
    "# ...\n",
    "\n",
    "with engine.begin() as conn:\n",
    "    query = text(\"\"\"SELECT * FROM Measurement\"\"\")\n",
    "    df = pd.read_sql_query(query, conn)\n",
    "\n",
    "df.head()\n",
    "\n",
    "##Didn't work...possible my version of sqlalchemy is old/too new...\n",
    "# # Put into a Pandas DataFrame\n",
    "# # measurement = session.query(Measurement)\n",
    "# measurement_df = pd.read_sql_query(\n",
    "#                 sql = measurement.statement,\n",
    "#                 con = engine\n",
    "# )\n",
    "\n",
    "# measurement_df.head()"
   ]
  },
  {
   "cell_type": "code",
   "execution_count": 595,
   "metadata": {},
   "outputs": [],
   "source": [
    "# # The most recent date in the data set.\n",
    "# print(df[\"date\"].max())\n",
    "# last_date = df[[\"date\"]].max()\n",
    "# last_date"
   ]
  },
  {
   "cell_type": "code",
   "execution_count": 14,
   "metadata": {
    "scrolled": true
   },
   "outputs": [
    {
     "data": {
      "text/plain": [
       "Text(0, 0.5, 'Inches')"
      ]
     },
     "execution_count": 14,
     "metadata": {},
     "output_type": "execute_result"
    },
    {
     "data": {
      "image/png": "[encoded data removed]",
      "text/plain": [
       "<Figure size 640x480 with 1 Axes>"
      ]
     },
     "metadata": {},
     "output_type": "display_data"
    }
   ],
   "source": [
    "# Design a query to retrieve the last 12 months of precipitation data and plot the results. \n",
    "# Starting from the most recent data point in the database. \n",
    "session.query(func.max(Measurement.date)).first()\n",
    "\n",
    "# Calculate the date one year from the last date in data set.\n",
    "date_one_year_ago  = dt.date(2017, 8, 23) - dt.timedelta(days=365)\n",
    "\n",
    "# Perform a query to retrieve the data and precipitation scores\n",
    "query = session.query(Measurement.date, Measurement.prcp).filter(Measurement.date >= date_one_year_ago).all()\n",
    "\n",
    "\n",
    "# Save the query results as a Pandas DataFrame. Explicitly set the column names\n",
    "df = pd.DataFrame(query, columns=['date', 'precipitation'])\n",
    "\n",
    "# # Sort the dataframe by date\n",
    "# sorted_df = df.sort_values(['date'], ascending=True)\n",
    "# clean_and_sorted_df = sorted_df.dropna(how='any')\n",
    "# clean_and_sorted_df\n",
    "\n",
    "# Use Pandas Plotting with Matplotlib to plot the data\n",
    "df.plot(x='date', y='precipitation', rot=90)\n",
    "plt.xlabel(\"Date\")\n",
    "plt.ylabel(\"Inches\")\n",
    "\n",
    "\n",
    "# x = clean_and_sorted_df['date']\n",
    "# y = clean_and_sorted_df['precipitation']\n",
    "# clean_and_sorted_df.plt(x, y, color = 'b', alpha = 0.5, align = 'center')\n",
    "\n",
    "# plt.title('Exploratory Precipitation Analysis')\n",
    "# #plt.xticks()\n",
    "\n",
    "# plt.xlabel('Date')\n",
    "# plt.ylabel('Precipitation (inches)')\n",
    "\n",
    "# print(\"Text(0, 0.5, 'Inches')\")\n",
    "# plt.show()"
   ]
  },
  {
   "cell_type": "code",
   "execution_count": 619,
   "metadata": {},
   "outputs": [
    {
     "data": {
      "text/html": [
       "<div>\n",
       "<style scoped>\n",
       "    .dataframe tbody tr th:only-of-type {\n",
       "        vertical-align: middle;\n",
       "    }\n",
       "\n",
       "    .dataframe tbody tr th {\n",
       "        vertical-align: top;\n",
       "    }\n",
       "\n",
       "    .dataframe thead th {\n",
       "        text-align: right;\n",
       "    }\n",
       "</style>\n",
       "<table border=\"1\" class=\"dataframe\">\n",
       "  <thead>\n",
       "    <tr style=\"text-align: right;\">\n",
       "      <th></th>\n",
       "      <th>precipitation</th>\n",
       "    </tr>\n",
       "  </thead>\n",
       "  <tbody>\n",
       "    <tr>\n",
       "      <th>count</th>\n",
       "      <td>2021.000000</td>\n",
       "    </tr>\n",
       "    <tr>\n",
       "      <th>mean</th>\n",
       "      <td>0.177279</td>\n",
       "    </tr>\n",
       "    <tr>\n",
       "      <th>std</th>\n",
       "      <td>0.461190</td>\n",
       "    </tr>\n",
       "    <tr>\n",
       "      <th>min</th>\n",
       "      <td>0.000000</td>\n",
       "    </tr>\n",
       "    <tr>\n",
       "      <th>25%</th>\n",
       "      <td>0.000000</td>\n",
       "    </tr>\n",
       "    <tr>\n",
       "      <th>50%</th>\n",
       "      <td>0.020000</td>\n",
       "    </tr>\n",
       "    <tr>\n",
       "      <th>75%</th>\n",
       "      <td>0.130000</td>\n",
       "    </tr>\n",
       "    <tr>\n",
       "      <th>max</th>\n",
       "      <td>6.700000</td>\n",
       "    </tr>\n",
       "  </tbody>\n",
       "</table>\n",
       "</div>"
      ],
      "text/plain": [
       "       precipitation\n",
       "count    2021.000000\n",
       "mean        0.177279\n",
       "std         0.461190\n",
       "min         0.000000\n",
       "25%         0.000000\n",
       "50%         0.020000\n",
       "75%         0.130000\n",
       "max         6.700000"
      ]
     },
     "execution_count": 619,
     "metadata": {},
     "output_type": "execute_result"
    }
   ],
   "source": [
    "# Use Pandas to calculate the summary statistics for the precipitation data\n",
    "clean_and_sorted_df.describe()\n"
   ]
  },
  {
   "cell_type": "markdown",
   "metadata": {},
   "source": [
    "# Exploratory Station Analysis"
   ]
  },
  {
   "cell_type": "code",
   "execution_count": 620,
   "metadata": {},
   "outputs": [
    {
     "data": {
      "text/plain": [
       "[(9,)]"
      ]
     },
     "execution_count": 620,
     "metadata": {},
     "output_type": "execute_result"
    }
   ],
   "source": [
    "# Design a query to calculate the total number of stations in the dataset\n",
    "total_stations_query = session.query(func.count(Station.station)).all()\n",
    "total_stations_query"
   ]
  },
  {
   "cell_type": "code",
   "execution_count": 39,
   "metadata": {},
   "outputs": [
    {
     "data": {
      "text/plain": [
       "[('USC00519281', 2772),\n",
       " ('USC00519397', 2724),\n",
       " ('USC00513117', 2709),\n",
       " ('USC00519523', 2669),\n",
       " ('USC00516128', 2612),\n",
       " ('USC00514830', 2202),\n",
       " ('USC00511918', 1979),\n",
       " ('USC00517948', 1372),\n",
       " ('USC00518838', 511)]"
      ]
     },
     "execution_count": 39,
     "metadata": {},
     "output_type": "execute_result"
    }
   ],
   "source": [
    "# Design a query to find the most active stations (i.e. which stations have the most rows?)\n",
    "# List the stations and their counts in descending order.\n",
    "active_query = session.query((Measurement.station),func.count(Measurement.station)).group_by(Measurement.station).order_by(func.count(Measurement.station).desc()).all()\n",
    "active_query\n",
    "\n"
   ]
  },
  {
   "cell_type": "code",
   "execution_count": 622,
   "metadata": {},
   "outputs": [
    {
     "name": "stdout",
     "output_type": "stream",
     "text": [
      "(54.0, 85.0, 71.66378066378067)\n"
     ]
    }
   ],
   "source": [
    "# Using the most active station id from the previous query, calculate the lowest, highest, and average temperature.\n",
    "most_active_station = session.query((Measurement.station),func.count(Measurement.station)).group_by(Measurement.station).order_by(func.count(Measurement.station).desc()).first()\n",
    "#print(most_active_station)\n",
    "temps_query = session.query((func.min(Measurement.tobs)),(func.max(Measurement.tobs)),(func.avg(Measurement.tobs))).group_by(Measurement.station == Measurement.id).filter_by(station ='USC00519281').first()\n",
    "print(temps_query)"
   ]
  },
  {
   "cell_type": "code",
   "execution_count": 601,
   "metadata": {},
   "outputs": [],
   "source": [
    "# # Using the most active station id\n",
    "# # Query the last 12 months of temperature observation data for this station and plot the results as a histogram\n",
    "# active_query = session.query((Measurement.station),func.count(Measurement.station)).group_by(Measurement.id).order_by(func.count(Measurement.station).desc()).first()\n",
    "# active_query\n",
    "\n",
    "# # Design a query to retrieve the last 12 months of tobs data and plot the results. \n",
    "# # Starting from the most recent data point in the database. \n",
    "# check = session.query(func.max(Measurement.date)).group_by(Measurement.station == Measurement.id).filter_by(station ='USC00519281').first()\n",
    "# #print(check)\n",
    "# # Calculate the date one year from the last date in data set.\n",
    "# date_one_year_ago_check  = dt.date(2017, 8, 18) - dt.timedelta(days=365)\n",
    "# #print(date_one_year_ago_check)\n",
    "\n",
    "# # Perform a query to retrieve the data and tobs data\n",
    "# query_check = session.query(Measurement.date, Measurement.tobs).filter(Measurement.date >= date_one_year_ago_check).all()\n",
    "# query_check\n",
    "\n",
    "# # Save the query results as a Pandas DataFrame. Explicitly set the column names\n",
    "# df_tobs = pd.DataFrame(query_check, columns=['date','tobs'])\n",
    "# df_tobs\n",
    "\n",
    "\n",
    "# # Sort the dataframe by date\n",
    "# sorted_df_tobs = df_tobs.sort_values(['date'], ascending=True)\n",
    "# clean_and_sorted_df_tobs = sorted_df_tobs.dropna(how='any')\n",
    "# clean_and_sorted_df_tobs\n",
    "\n",
    "# # Use Pandas Plotting with Matplotlib to plot the data\n",
    "\n",
    "# tobs= clean_and_sorted_df_tobs['tobs']\n",
    "# #tobs\n",
    "# bins = len(tobs)\n",
    "# #bins\n",
    "# plt.hist(tobs)\n",
    "# #plt.hist(tobs,bins=bins, edgecolor='black')\n",
    "\n",
    "# plt.title('Temperature Observation Histogram - Station USC00519281')\n",
    "# #plt.xticks()\n",
    "\n",
    "# plt.xlabel('Temperature')\n",
    "# plt.ylabel('Frequency')\n",
    "\n",
    "# print(\"Text(0.5, 4.183333333333314, 'Temperature')\")\n",
    "# plt.show()\n"
   ]
  },
  {
   "cell_type": "code",
   "execution_count": 623,
   "metadata": {},
   "outputs": [
    {
     "data": {
      "text/plain": [
       "Text(0.5, 4.183333333333314, 'Temperature')"
      ]
     },
     "execution_count": 623,
     "metadata": {},
     "output_type": "execute_result"
    },
    {
     "data": {
      "image/png": "[encoded data removed]",
      "text/plain": [
       "<Figure size 640x480 with 1 Axes>"
      ]
     },
     "metadata": {},
     "output_type": "display_data"
    }
   ],
   "source": [
    "# Using the most active station id\n",
    "# Query the last 12 months of temperature observation data for this station and plot the results as a histogram\n",
    "##This entire cell came from AskBCS...I still don't understand most of the material in this entire python file.\n",
    "import datetime as dt\n",
    "from pandas.plotting import table\n",
    "date_one_year_ago_check = dt.date(2017, 8, 23) - dt.timedelta(days=365)\n",
    "\n",
    "query_check = session.query(Measurement.tobs).\\\n",
    "    filter(Measurement.station == 'USC00519281').\\\n",
    "    filter(Measurement.date >= date_one_year_ago_check).all()\n",
    "df_tobs = pd.DataFrame(query_check, columns=['tobs'])\n",
    "df_tobs.plot.hist(bins=12)\n",
    "plt.tight_layout()\n",
    "plt.xlabel(\"Temperature\")"
   ]
  },
  {
   "cell_type": "code",
   "execution_count": 625,
   "metadata": {},
   "outputs": [],
   "source": [
    "#measurement class\n",
    "Measurement = Base.classes.measurement\n",
    "\n",
    "#station class\n",
    "Station = Base.classes.station"
   ]
  },
  {
   "cell_type": "code",
   "execution_count": 643,
   "metadata": {},
   "outputs": [
    {
     "ename": "AttributeError",
     "evalue": "'InstanceState' object has no attribute '_post_inspect'",
     "output_type": "error",
     "traceback": [
      "\u001b[1;31m---------------------------------------------------------------------------\u001b[0m",
      "\u001b[1;31mAttributeError\u001b[0m                            Traceback (most recent call last)",
      "Cell \u001b[1;32mIn[643], line 3\u001b[0m\n\u001b[0;32m      1\u001b[0m \u001b[39m#join measurement and station tables on station\u001b[39;00m\n\u001b[0;32m      2\u001b[0m \u001b[39m#session.query(Measurement.station,Station.station).all()\u001b[39;00m\n\u001b[1;32m----> 3\u001b[0m same_station \u001b[39m=\u001b[39m session\u001b[39m.\u001b[39;49mquery(Measurement,Station)\u001b[39m.\u001b[39mfilter(Measurement\u001b[39m.\u001b[39mstation\u001b[39m==\u001b[39mStation\u001b[39m.\u001b[39mstation)\u001b[39m.\u001b[39mlimit(\u001b[39m10\u001b[39m)\u001b[39m.\u001b[39mall()\n",
      "File \u001b[1;32mc:\\Users\\wsabr\\anaconda3\\envs\\dev\\lib\\site-packages\\sqlalchemy\\orm\\session.py:2830\u001b[0m, in \u001b[0;36mSession.query\u001b[1;34m(self, *entities, **kwargs)\u001b[0m\n\u001b[0;32m   2810\u001b[0m \u001b[39mdef\u001b[39;00m \u001b[39mquery\u001b[39m(\n\u001b[0;32m   2811\u001b[0m     \u001b[39mself\u001b[39m, \u001b[39m*\u001b[39mentities: _ColumnsClauseArgument[Any], \u001b[39m*\u001b[39m\u001b[39m*\u001b[39mkwargs: Any\n\u001b[0;32m   2812\u001b[0m ) \u001b[39m-\u001b[39m\u001b[39m>\u001b[39m Query[Any]:\n\u001b[0;32m   2813\u001b[0m \u001b[39m    \u001b[39m\u001b[39m\"\"\"Return a new :class:`_query.Query` object corresponding to this\u001b[39;00m\n\u001b[0;32m   2814\u001b[0m \u001b[39m    :class:`_orm.Session`.\u001b[39;00m\n\u001b[0;32m   2815\u001b[0m \n\u001b[1;32m   (...)\u001b[0m\n\u001b[0;32m   2827\u001b[0m \n\u001b[0;32m   2828\u001b[0m \u001b[39m    \"\"\"\u001b[39;00m\n\u001b[1;32m-> 2830\u001b[0m     \u001b[39mreturn\u001b[39;00m \u001b[39mself\u001b[39m\u001b[39m.\u001b[39m_query_cls(entities, \u001b[39mself\u001b[39m, \u001b[39m*\u001b[39m\u001b[39m*\u001b[39mkwargs)\n",
      "File \u001b[1;32mc:\\Users\\wsabr\\anaconda3\\envs\\dev\\lib\\site-packages\\sqlalchemy\\orm\\query.py:274\u001b[0m, in \u001b[0;36mQuery.__init__\u001b[1;34m(self, entities, session)\u001b[0m\n\u001b[0;32m    268\u001b[0m \u001b[39m# session is usually present.  There's one case in subqueryloader\u001b[39;00m\n\u001b[0;32m    269\u001b[0m \u001b[39m# where it stores a Query without a Session and also there are tests\u001b[39;00m\n\u001b[0;32m    270\u001b[0m \u001b[39m# for the query(Entity).with_session(session) API which is likely in\u001b[39;00m\n\u001b[0;32m    271\u001b[0m \u001b[39m# some old recipes, however these are legacy as select() can now be\u001b[39;00m\n\u001b[0;32m    272\u001b[0m \u001b[39m# used.\u001b[39;00m\n\u001b[0;32m    273\u001b[0m \u001b[39mself\u001b[39m\u001b[39m.\u001b[39msession \u001b[39m=\u001b[39m session  \u001b[39m# type: ignore\u001b[39;00m\n\u001b[1;32m--> 274\u001b[0m \u001b[39mself\u001b[39;49m\u001b[39m.\u001b[39;49m_set_entities(entities)\n",
      "File \u001b[1;32mc:\\Users\\wsabr\\anaconda3\\envs\\dev\\lib\\site-packages\\sqlalchemy\\orm\\query.py:283\u001b[0m, in \u001b[0;36mQuery._set_entities\u001b[1;34m(self, entities)\u001b[0m\n\u001b[0;32m    280\u001b[0m \u001b[39mdef\u001b[39;00m \u001b[39m_set_entities\u001b[39m(\n\u001b[0;32m    281\u001b[0m     \u001b[39mself\u001b[39m, entities: Iterable[_ColumnsClauseArgument[Any]]\n\u001b[0;32m    282\u001b[0m ) \u001b[39m-\u001b[39m\u001b[39m>\u001b[39m \u001b[39mNone\u001b[39;00m:\n\u001b[1;32m--> 283\u001b[0m     \u001b[39mself\u001b[39m\u001b[39m.\u001b[39m_raw_columns \u001b[39m=\u001b[39m [\n\u001b[0;32m    284\u001b[0m         coercions\u001b[39m.\u001b[39mexpect(\n\u001b[0;32m    285\u001b[0m             roles\u001b[39m.\u001b[39mColumnsClauseRole,\n\u001b[0;32m    286\u001b[0m             ent,\n\u001b[0;32m    287\u001b[0m             apply_propagate_attrs\u001b[39m=\u001b[39m\u001b[39mself\u001b[39m,\n\u001b[0;32m    288\u001b[0m             post_inspect\u001b[39m=\u001b[39m\u001b[39mTrue\u001b[39;00m,\n\u001b[0;32m    289\u001b[0m         )\n\u001b[0;32m    290\u001b[0m         \u001b[39mfor\u001b[39;00m ent \u001b[39min\u001b[39;00m util\u001b[39m.\u001b[39mto_list(entities)\n\u001b[0;32m    291\u001b[0m     ]\n",
      "File \u001b[1;32mc:\\Users\\wsabr\\anaconda3\\envs\\dev\\lib\\site-packages\\sqlalchemy\\orm\\query.py:284\u001b[0m, in \u001b[0;36m<listcomp>\u001b[1;34m(.0)\u001b[0m\n\u001b[0;32m    280\u001b[0m \u001b[39mdef\u001b[39;00m \u001b[39m_set_entities\u001b[39m(\n\u001b[0;32m    281\u001b[0m     \u001b[39mself\u001b[39m, entities: Iterable[_ColumnsClauseArgument[Any]]\n\u001b[0;32m    282\u001b[0m ) \u001b[39m-\u001b[39m\u001b[39m>\u001b[39m \u001b[39mNone\u001b[39;00m:\n\u001b[0;32m    283\u001b[0m     \u001b[39mself\u001b[39m\u001b[39m.\u001b[39m_raw_columns \u001b[39m=\u001b[39m [\n\u001b[1;32m--> 284\u001b[0m         coercions\u001b[39m.\u001b[39;49mexpect(\n\u001b[0;32m    285\u001b[0m             roles\u001b[39m.\u001b[39;49mColumnsClauseRole,\n\u001b[0;32m    286\u001b[0m             ent,\n\u001b[0;32m    287\u001b[0m             apply_propagate_attrs\u001b[39m=\u001b[39;49m\u001b[39mself\u001b[39;49m,\n\u001b[0;32m    288\u001b[0m             post_inspect\u001b[39m=\u001b[39;49m\u001b[39mTrue\u001b[39;49;00m,\n\u001b[0;32m    289\u001b[0m         )\n\u001b[0;32m    290\u001b[0m         \u001b[39mfor\u001b[39;00m ent \u001b[39min\u001b[39;00m util\u001b[39m.\u001b[39mto_list(entities)\n\u001b[0;32m    291\u001b[0m     ]\n",
      "File \u001b[1;32mc:\\Users\\wsabr\\anaconda3\\envs\\dev\\lib\\site-packages\\sqlalchemy\\sql\\coercions.py:406\u001b[0m, in \u001b[0;36mexpect\u001b[1;34m(role, element, apply_propagate_attrs, argname, post_inspect, disable_inspection, **kw)\u001b[0m\n\u001b[0;32m    404\u001b[0m \u001b[39mif\u001b[39;00m insp \u001b[39mis\u001b[39;00m \u001b[39mnot\u001b[39;00m \u001b[39mNone\u001b[39;00m:\n\u001b[0;32m    405\u001b[0m     \u001b[39mif\u001b[39;00m post_inspect:\n\u001b[1;32m--> 406\u001b[0m         insp\u001b[39m.\u001b[39;49m_post_inspect\n\u001b[0;32m    407\u001b[0m     \u001b[39mtry\u001b[39;00m:\n\u001b[0;32m    408\u001b[0m         resolved \u001b[39m=\u001b[39m insp\u001b[39m.\u001b[39m__clause_element__()\n",
      "\u001b[1;31mAttributeError\u001b[0m: 'InstanceState' object has no attribute '_post_inspect'"
     ]
    }
   ],
   "source": [
    "#join measurement and station tables on station\n",
    "#session.query(Measurement.station,Station.station).all()\n",
    "same_station = session.query(Measurement,Station).filter(Measurement.station==Station.station).limit(10).all()"
   ]
  },
  {
   "cell_type": "code",
   "execution_count": null,
   "metadata": {},
   "outputs": [],
   "source": []
  },
  {
   "cell_type": "markdown",
   "metadata": {},
   "source": [
    "# Close Session"
   ]
  },
  {
   "cell_type": "code",
   "execution_count": 603,
   "metadata": {},
   "outputs": [],
   "source": [
    "# Close Session\n",
    "session.close()"
   ]
  },
  {
   "cell_type": "code",
   "execution_count": null,
   "metadata": {},
   "outputs": [],
   "source": []
  }
 ],
 "metadata": {
  "anaconda-cloud": {},
  "kernel_info": {
   "name": "python3"
  },
  "kernelspec": {
   "display_name": "Python 3 (ipykernel)",
   "language": "python",
   "name": "python3"
  },
  "language_info": {
   "codemirror_mode": {
    "name": "ipython",
    "version": 3
   },
   "file_extension": ".py",
   "mimetype": "text/x-python",
   "name": "python",
   "nbconvert_exporter": "python",
   "pygments_lexer": "ipython3",
   "version": "3.10.11"
  },
  "nteract": {
   "version": "0.12.3"
  },
  "varInspector": {
   "cols": {
    "lenName": 16,
    "lenType": 16,
    "lenVar": 40
   },
   "kernels_config": {
    "python": {
     "delete_cmd_postfix": "",
     "delete_cmd_prefix": "del ",
     "library": "var_list.py",
     "varRefreshCmd": "print(var_dic_list())"
    },
    "r": {
     "delete_cmd_postfix": ") ",
     "delete_cmd_prefix": "rm(",
     "library": "var_list.r",
     "varRefreshCmd": "cat(var_dic_list()) "
    }
   },
   "types_to_exclude": [
    "module",
    "function",
    "builtin_function_or_method",
    "instance",
    "_Feature"
   ],
   "window_display": false
  }
 },
 "nbformat": 4,
 "nbformat_minor": 2
}
